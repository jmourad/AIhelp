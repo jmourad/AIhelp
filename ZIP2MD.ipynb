{
  "nbformat": 4,
  "nbformat_minor": 0,
  "metadata": {
    "colab": {
      "provenance": [],
      "authorship_tag": "ABX9TyNVQUQnZ09eL6o6akVHpAFy",
      "include_colab_link": true
    },
    "kernelspec": {
      "name": "python3",
      "display_name": "Python 3"
    },
    "language_info": {
      "name": "python"
    }
  },
  "cells": [
    {
      "cell_type": "markdown",
      "metadata": {
        "id": "view-in-github",
        "colab_type": "text"
      },
      "source": [
        "<a href=\"https://colab.research.google.com/github/jmourad/AIhelp/blob/main/ZIP2MD.ipynb\" target=\"_parent\"><img src=\"https://colab.research.google.com/assets/colab-badge.svg\" alt=\"Open In Colab\"/></a>"
      ]
    },
    {
      "cell_type": "code",
      "source": [
        "# Instalar bibliotecas necesarias\n",
        "!pip install python-magic"
      ],
      "metadata": {
        "colab": {
          "base_uri": "https://localhost:8080/"
        },
        "id": "y2UliLuAYZ0D",
        "outputId": "48ae6cb4-d797-4dc9-a19f-8b81331b2a95"
      },
      "execution_count": 1,
      "outputs": [
        {
          "output_type": "stream",
          "name": "stdout",
          "text": [
            "Collecting python-magic\n",
            "  Downloading python_magic-0.4.27-py2.py3-none-any.whl (13 kB)\n",
            "Installing collected packages: python-magic\n",
            "Successfully installed python-magic-0.4.27\n"
          ]
        }
      ]
    },
    {
      "cell_type": "code",
      "execution_count": 4,
      "metadata": {
        "colab": {
          "base_uri": "https://localhost:8080/"
        },
        "id": "gxZu2CC7YXcP",
        "outputId": "ef4c6f39-0f57-4b23-d586-06567a8b0160"
      },
      "outputs": [
        {
          "output_type": "stream",
          "name": "stdout",
          "text": [
            "Analysis completed. The report is saved in /content/analysis_report.md\n"
          ]
        }
      ],
      "source": [
        "import os\n",
        "import magic\n",
        "import zipfile\n",
        "import markdown\n",
        "\n",
        "# Función para descomprimir el archivo ZIP\n",
        "def unzip_file(zip_path, extract_to):\n",
        "    with zipfile.ZipFile(zip_path, 'r') as zip_ref:\n",
        "        zip_ref.extractall(extract_to)\n",
        "\n",
        "# Función para analizar archivos de texto y código\n",
        "def analyze_text_file(file_path):\n",
        "    with open(file_path, 'r', encoding='utf-8', errors='ignore') as file:\n",
        "        content = file.read()\n",
        "    return content\n",
        "\n",
        "# Función para analizar imágenes\n",
        "def analyze_image_file(file_path):\n",
        "    return f\"Image path: {file_path}\"\n",
        "\n",
        "# Función para analizar archivos de manera recursiva\n",
        "def analyze_directory(directory_path, md_file):\n",
        "    for root, dirs, files in os.walk(directory_path):\n",
        "        for file in files:\n",
        "            file_path = os.path.join(root, file)\n",
        "            file_type = magic.from_file(file_path, mime=True)\n",
        "\n",
        "            if file_type.startswith('text') or file_type.endswith(('python', 'java', 'md', 'json', 'php', 'xml', 'yaml', 'yml', 'ini', 'conf', 'cfg', 'html', 'js')):\n",
        "                content = analyze_text_file(file_path)\n",
        "                md_file.write(f\"### File: {file_path}\\n```\\n{content}\\n```\\n\")\n",
        "            elif file_type.startswith('image'):\n",
        "                content = analyze_image_file(file_path)\n",
        "                md_file.write(f\"### {content}\\n\")\n",
        "\n",
        "# Función principal para ejecutar el análisis\n",
        "def main():\n",
        "    zip_path = \"/content/FisherAI2.zip\"  # Cambia esto al nombre de tu archivo ZIP\n",
        "    extract_to = \"/content/extracted\"\n",
        "    md_file_path = \"/content/analysis_report.md\"\n",
        "\n",
        "    # Descomprimir el archivo ZIP\n",
        "    unzip_file(zip_path, extract_to)\n",
        "\n",
        "    # Crear el archivo Markdown para el informe\n",
        "    with open(md_file_path, 'w', encoding='utf-8') as md_file:\n",
        "        md_file.write(\"# Analysis Report\\n\")\n",
        "        analyze_directory(extract_to, md_file)\n",
        "\n",
        "    print(f\"Analysis completed. The report is saved in {md_file_path}\")\n",
        "\n",
        "# Ejecutar la función principal\n",
        "if __name__ == \"__main__\":\n",
        "    main()"
      ]
    }
  ]
}